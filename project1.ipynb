{
 "cells": [
  {
   "cell_type": "markdown",
   "id": "443ffdcc",
   "metadata": {},
   "source": [
    "#   Project 1 SI201\n",
    "###   Names: Emma Blando, Vanessa Adan"
   ]
  },
  {
   "cell_type": "code",
   "execution_count": null,
   "id": "f5773f27",
   "metadata": {},
   "outputs": [],
   "source": [
    "import pandas as pd\n",
    "\n",
    "superstore = pd.read_csv(\"SampleSuperstore.csv\")\n",
    "\n",
    "print(superstore.head(n=3))"
   ]
  },
  {
   "cell_type": "code",
   "execution_count": null,
   "id": "5ecc3142",
   "metadata": {},
   "outputs": [],
   "source": []
  }
 ],
 "metadata": {
  "language_info": {
   "name": "python"
  }
 },
 "nbformat": 4,
 "nbformat_minor": 5
}
